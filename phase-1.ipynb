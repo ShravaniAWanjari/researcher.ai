{
 "cells": [
  {
   "cell_type": "markdown",
   "metadata": {},
   "source": [
    "all the imports"
   ]
  },
  {
   "cell_type": "code",
   "execution_count": 7,
   "metadata": {},
   "outputs": [],
   "source": [
    "import arxiv\n",
    "import requests\n",
    "import json"
   ]
  },
  {
   "cell_type": "code",
   "execution_count": 8,
   "metadata": {},
   "outputs": [],
   "source": [
    "def arxiv_papers(query: str, max_results: int = 5) -> list[dict]:\n",
    "    client = arxiv.Client()\n",
    "    search = arxiv.Search(query=query, max_results = max_results)\n",
    "    papers = []\n",
    "\n",
    "    for result in client.results(search):\n",
    "        paper = {\n",
    "            \"title\" : result.title,\n",
    "            \"author\": [result.author.name],\n",
    "            \"summary\": result.summary,\n",
    "            \"published\": result.published.date(),\n",
    "            \"url\": result.pdf_url\n",
    "        }\n",
    "        papers.append(paper)\n",
    "\n",
    "    return papers"
   ]
  },
  {
   "cell_type": "code",
   "execution_count": 10,
   "metadata": {},
   "outputs": [],
   "source": [
    "def fetch_wiki(query:str, api_key:str, max_results:int = 5) -> list[dict]:\n",
    "    url = \"https://ieeexploreapi.ieee.org/api/v1/search/articles?parameter&apikey=\"\n",
    "    params = {\n",
    "        \"query\": query,\n",
    "        'apikey': api_key,\n",
    "        'max_records': max_results,\n",
    "        'format': 'json'\n",
    "    }\n",
    "\n",
    "    response = requests.get(url, params=params)\n",
    "    if response.status_code != 200:\n",
    "        raise Exception(f'IEEE Xplore API failed: {response.text}')\n",
    "    \n",
    "    papers = []\n",
    "\n",
    "    for article in response.json().get('articles', []):\n",
    "        papers.append({\n",
    "            \"title\": author.get('title', 'no title'),\n",
    "            \"authors\": [author[\"full_name\"] for author in article.get('authors', [])],\n",
    "            \"abstract\":article.get('abstract', 'No abstract'),\n",
    "            'published': article.get('publication_date',\"\"),\n",
    "            'url': article.get('pdf_url', article.get('html_url',''))\n",
    "        })\n",
    "    return papers\n",
    "\n",
    "    "
   ]
  }
 ],
 "metadata": {
  "kernelspec": {
   "display_name": "r-conda",
   "language": "python",
   "name": "python3"
  },
  "language_info": {
   "codemirror_mode": {
    "name": "ipython",
    "version": 3
   },
   "file_extension": ".py",
   "mimetype": "text/x-python",
   "name": "python",
   "nbconvert_exporter": "python",
   "pygments_lexer": "ipython3",
   "version": "3.13.3"
  }
 },
 "nbformat": 4,
 "nbformat_minor": 2
}

{
 "cells": [
  {
   "cell_type": "code",
   "execution_count": 1,
   "metadata": {},
   "outputs": [
    {
     "name": "stdout",
     "output_type": "stream",
     "text": [
      "Collecting arxiv\n",
      "  Downloading arxiv-2.2.0-py3-none-any.whl.metadata (6.3 kB)\n",
      "Collecting wikipedia-api\n",
      "  Downloading wikipedia_api-0.8.1.tar.gz (19 kB)\n",
      "  Installing build dependencies: started\n",
      "  Installing build dependencies: finished with status 'done'\n",
      "  Getting requirements to build wheel: started\n",
      "  Getting requirements to build wheel: finished with status 'done'\n",
      "  Preparing metadata (pyproject.toml): started\n",
      "  Preparing metadata (pyproject.toml): finished with status 'done'\n",
      "Collecting requests\n",
      "  Using cached requests-2.32.3-py3-none-any.whl.metadata (4.6 kB)\n",
      "Collecting beautifulsoup4\n",
      "  Using cached beautifulsoup4-4.13.4-py3-none-any.whl.metadata (3.8 kB)\n",
      "Collecting feedparser~=6.0.10 (from arxiv)\n",
      "  Downloading feedparser-6.0.11-py3-none-any.whl.metadata (2.4 kB)\n",
      "Collecting charset-normalizer<4,>=2 (from requests)\n",
      "  Downloading charset_normalizer-3.4.2-cp313-cp313-win_amd64.whl.metadata (36 kB)\n",
      "Collecting idna<4,>=2.5 (from requests)\n",
      "  Using cached idna-3.10-py3-none-any.whl.metadata (10 kB)\n",
      "Collecting urllib3<3,>=1.21.1 (from requests)\n",
      "  Using cached urllib3-2.4.0-py3-none-any.whl.metadata (6.5 kB)\n",
      "Collecting certifi>=2017.4.17 (from requests)\n",
      "  Using cached certifi-2025.4.26-py3-none-any.whl.metadata (2.5 kB)\n",
      "Collecting sgmllib3k (from feedparser~=6.0.10->arxiv)\n",
      "  Downloading sgmllib3k-1.0.0.tar.gz (5.8 kB)\n",
      "  Installing build dependencies: started\n",
      "  Installing build dependencies: finished with status 'done'\n",
      "  Getting requirements to build wheel: started\n",
      "  Getting requirements to build wheel: finished with status 'done'\n",
      "  Preparing metadata (pyproject.toml): started\n",
      "  Preparing metadata (pyproject.toml): finished with status 'done'\n",
      "Collecting soupsieve>1.2 (from beautifulsoup4)\n",
      "  Using cached soupsieve-2.7-py3-none-any.whl.metadata (4.6 kB)\n",
      "Requirement already satisfied: typing-extensions>=4.0.0 in c:\\users\\lenovo\\.conda\\envs\\r-conda\\lib\\site-packages (from beautifulsoup4) (4.13.2)\n",
      "Downloading arxiv-2.2.0-py3-none-any.whl (11 kB)\n",
      "Using cached requests-2.32.3-py3-none-any.whl (64 kB)\n",
      "Downloading charset_normalizer-3.4.2-cp313-cp313-win_amd64.whl (105 kB)\n",
      "Downloading feedparser-6.0.11-py3-none-any.whl (81 kB)\n",
      "Using cached idna-3.10-py3-none-any.whl (70 kB)\n",
      "Using cached urllib3-2.4.0-py3-none-any.whl (128 kB)\n",
      "Using cached beautifulsoup4-4.13.4-py3-none-any.whl (187 kB)\n",
      "Using cached certifi-2025.4.26-py3-none-any.whl (159 kB)\n",
      "Using cached soupsieve-2.7-py3-none-any.whl (36 kB)\n",
      "Building wheels for collected packages: wikipedia-api, sgmllib3k\n",
      "  Building wheel for wikipedia-api (pyproject.toml): started\n",
      "  Building wheel for wikipedia-api (pyproject.toml): finished with status 'done'\n",
      "  Created wheel for wikipedia-api: filename=wikipedia_api-0.8.1-py3-none-any.whl size=15540 sha256=bdc8ffd5d819411dc485b4fa6f20cdd3a3d0bb2129ee80597e68b39c2ef7afc4\n",
      "  Stored in directory: c:\\users\\lenovo\\appdata\\local\\pip\\cache\\wheels\\e2\\47\\f0\\0afcbc01ff2bb0f35c593aae7ddebbeef350e46dfddeca47d8\n",
      "  Building wheel for sgmllib3k (pyproject.toml): started\n",
      "  Building wheel for sgmllib3k (pyproject.toml): finished with status 'done'\n",
      "  Created wheel for sgmllib3k: filename=sgmllib3k-1.0.0-py3-none-any.whl size=6103 sha256=458c6de04e1491a49f7fb90a132185c5e534e1b09e9a3b21674fdb348f649ff4\n",
      "  Stored in directory: c:\\users\\lenovo\\appdata\\local\\pip\\cache\\wheels\\3d\\4d\\ef\\37cdccc18d6fd7e0dd7817dcdf9146d4d6789c32a227a28134\n",
      "Successfully built wikipedia-api sgmllib3k\n",
      "Installing collected packages: sgmllib3k, urllib3, soupsieve, idna, feedparser, charset-normalizer, certifi, requests, beautifulsoup4, wikipedia-api, arxiv\n",
      "\n",
      "   --- ------------------------------------  1/11 [urllib3]\n",
      "   --- ------------------------------------  1/11 [urllib3]\n",
      "   --- ------------------------------------  1/11 [urllib3]\n",
      "   ---------- -----------------------------  3/11 [idna]\n",
      "   -------------- -------------------------  4/11 [feedparser]\n",
      "   -------------- -------------------------  4/11 [feedparser]\n",
      "   -------------- -------------------------  4/11 [feedparser]\n",
      "   ------------------ ---------------------  5/11 [charset-normalizer]\n",
      "   ------------------------- --------------  7/11 [requests]\n",
      "   ------------------------- --------------  7/11 [requests]\n",
      "   ----------------------------- ----------  8/11 [beautifulsoup4]\n",
      "   ----------------------------- ----------  8/11 [beautifulsoup4]\n",
      "   ----------------------------- ----------  8/11 [beautifulsoup4]\n",
      "   ------------------------------------ --- 10/11 [arxiv]\n",
      "   ---------------------------------------- 11/11 [arxiv]\n",
      "\n",
      "Successfully installed arxiv-2.2.0 beautifulsoup4-4.13.4 certifi-2025.4.26 charset-normalizer-3.4.2 feedparser-6.0.11 idna-3.10 requests-2.32.3 sgmllib3k-1.0.0 soupsieve-2.7 urllib3-2.4.0 wikipedia-api-0.8.1\n",
      "Note: you may need to restart the kernel to use updated packages.\n"
     ]
    }
   ],
   "source": [
    "pip install arxiv wikipedia-api requests beautifulsoup4"
   ]
  },
  {
   "cell_type": "markdown",
   "metadata": {},
   "source": [
    "all the imports"
   ]
  },
  {
   "cell_type": "code",
   "execution_count": 1,
   "metadata": {},
   "outputs": [],
   "source": [
    "import arxiv"
   ]
  },
  {
   "cell_type": "code",
   "execution_count": 3,
   "metadata": {},
   "outputs": [],
   "source": [
    "def arxiv_papers(query: str, max_results: int = 5) -> list[dict]:\n",
    "    client = arxiv.Client()\n",
    "    search = arxiv.Search(query=query, max_results = max_results)\n",
    "    papers = []\n",
    "\n",
    "    for result in client.results(search):\n",
    "        paper = {\n",
    "            \"title\" : result.title,\n",
    "            \"author\": [result.author.name],\n",
    "            \"summary\": result.summary,\n",
    "            \"published\": result.published.date(),\n",
    "            \"url\": result.pdf_url\n",
    "        }\n",
    "        papers.append(paper)\n",
    "\n",
    "    return papers"
   ]
  }
 ],
 "metadata": {
  "kernelspec": {
   "display_name": "r-conda",
   "language": "python",
   "name": "python3"
  },
  "language_info": {
   "codemirror_mode": {
    "name": "ipython",
    "version": 3
   },
   "file_extension": ".py",
   "mimetype": "text/x-python",
   "name": "python",
   "nbconvert_exporter": "python",
   "pygments_lexer": "ipython3",
   "version": "3.13.3"
  }
 },
 "nbformat": 4,
 "nbformat_minor": 2
}

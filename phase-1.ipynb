{
 "cells": [
  {
   "cell_type": "markdown",
   "metadata": {},
   "source": [
    "all the imports"
   ]
  },
  {
   "cell_type": "code",
   "execution_count": 1,
   "metadata": {},
   "outputs": [],
   "source": [
    "import arxiv\n",
    "import requests\n",
    "import json"
   ]
  },
  {
   "cell_type": "code",
   "execution_count": 2,
   "metadata": {},
   "outputs": [],
   "source": [
    "def get_arxiv_papers(query: str, max_papers: int = 5) -> list[dict]:\n",
    "    client = arxiv.Client()\n",
    "    search = arxiv.Search(query=query, max_results = max_papers)\n",
    "    papers = []\n",
    "\n",
    "    for result in client.results(search):\n",
    "        paper = {\n",
    "            \"title\" : result.title,\n",
    "            \"authors\": [result.author.name],\n",
    "            \"summary\": result.summary,\n",
    "            \"published\": result.published.date(),\n",
    "            \"url\": result.pdf_url\n",
    "        }\n",
    "        papers.append(paper)\n",
    "\n",
    "    return papers"
   ]
  },
  {
   "cell_type": "code",
   "execution_count": 6,
   "metadata": {},
   "outputs": [],
   "source": [
    "from tenacity import retry, stop_after_attempt\n",
    "\n",
    "@retry(stop=stop_after_attempt(5))\n",
    "\n",
    "\n",
    "def get_ieee_papers(query:str, api_key:str, max_results:int = 5) -> list[dict]:\n",
    "    url = \"https://ieeexploreapi.ieee.org/api/v1/search/articles?parameter&apikey=\"\n",
    "    params = {\n",
    "        \"query\": query,\n",
    "        'apikey': api_key,\n",
    "        'max_records': max_results,\n",
    "        'format': 'json'\n",
    "    }\n",
    "\n",
    "    response = requests.get(url, params=params, timeout=10)\n",
    "    if response.status_code != 200:\n",
    "        raise Exception(f'IEEE Xplore API failed: {response.text}')\n",
    "    \n",
    "    papers = []\n",
    "\n",
    "    for article in response.json().get('articles', []):\n",
    "        papers.append({\n",
    "            \"title\": article.get('title', 'no title'),\n",
    "            \"authors\": [author[\"full_name\"] for author in article.get('authors', [])],\n",
    "            \"abstract\":article.get('abstract', 'No abstract'),\n",
    "            'published': article.get('publication_date',\"\"),\n",
    "            'url': article.get('pdf_url', article.get('html_url',''))\n",
    "        })\n",
    "    return papers\n",
    "\n",
    "    "
   ]
  },
  {
   "cell_type": "code",
   "execution_count": 8,
   "metadata": {},
   "outputs": [],
   "source": [
    "def research_agent(query:str, ieee_api_key:str, max_papers: int = 5)-> list[str]:\n",
    "    try:\n",
    "        papers = get_arxiv_papers(query, max_papers)\n",
    "        if not papers:\n",
    "            return ValueError('arXiv returned no papers')\n",
    "        return papers\n",
    "    except Exception as e:\n",
    "        if not ieee_api_key:\n",
    "            return ValueError('Switching to IEEE - Need the API key')\n",
    "        print(f'arxiv failed ({e}), trying IEEE Xplore')\n",
    "        return get_ieee_papers(query, ieee_api_key, max_papers)\n",
    "\n"
   ]
  },
  {
   "cell_type": "code",
   "execution_count": 9,
   "metadata": {},
   "outputs": [],
   "source": [
    "def get_results(papers: list[dict]):\n",
    "    for i, paper in enumerate(papers,1):\n",
    "        print(f\"\"\"\n",
    "        [{i}] {paper['title']}\n",
    "        Authors:{','.join(paper.get('authors', []))}\n",
    "        Published: {paper.get('published', 'N/A')}\n",
    "        Summary: {paper.get('summary', paper.get('abstract', 'N/A'))[:200]}...\n",
    "        URL:{paper.get('url','N/A')}\n",
    "        \"\"\")"
   ]
  },
  {
   "cell_type": "code",
   "execution_count": 44,
   "metadata": {},
   "outputs": [
    {
     "name": "stdout",
     "output_type": "stream",
     "text": [
      "\n",
      "        [1] A Comprehensive Evaluation of Quantization Strategies for Large Language Models\n",
      "        Authors:Renren Jin,Jiangcun Du,Wuwei Huang,Wei Liu,Jian Luan,Bin Wang,Deyi Xiong\n",
      "        Published: 2024-02-26\n",
      "        Summary: Increasing the number of parameters in large language models (LLMs) usually\n",
      "improves performance in downstream tasks but raises compute and memory costs,\n",
      "making deployment difficult in resource-limite...\n",
      "        URL:http://arxiv.org/pdf/2402.16775v2\n",
      "        \n",
      "\n",
      "        [2] CrossQuant: A Post-Training Quantization Method with Smaller Quantization Kernel for Precise Large Language Model Compression\n",
      "        Authors:Wenyuan Liu,Xindian Ma,Peng Zhang,Yan Wang\n",
      "        Published: 2024-10-10\n",
      "        Summary: Post-Training Quantization (PTQ) is an effective technique for compressing\n",
      "Large Language Models (LLMs). While many studies focus on quantizing both\n",
      "weights and activations, it is still a challenge to...\n",
      "        URL:http://arxiv.org/pdf/2410.07505v1\n",
      "        \n",
      "\n",
      "        [3] Achieving binary weight and activation for LLMs using Post-Training Quantization\n",
      "        Authors:Siqing Song,Chuang Wang,Ruiqi Wang,Yi Yang,Xuyao Zhang\n",
      "        Published: 2025-04-07\n",
      "        Summary: Quantizing large language models (LLMs) to 1-bit precision significantly\n",
      "reduces computational costs, but existing quantization techniques suffer from\n",
      "noticeable performance degradation when using wei...\n",
      "        URL:http://arxiv.org/pdf/2504.05352v1\n",
      "        \n",
      "\n",
      "        [4] The Impact of Quantization on Retrieval-Augmented Generation: An Analysis of Small LLMs\n",
      "        Authors:Mert Yazan,Suzan Verberne,Frederik Situmeang\n",
      "        Published: 2024-06-10\n",
      "        Summary: Post-training quantization reduces the computational demand of Large Language\n",
      "Models (LLMs) but can weaken some of their capabilities. Since LLM abilities\n",
      "emerge with scale, smaller LLMs are more sens...\n",
      "        URL:http://arxiv.org/pdf/2406.10251v3\n",
      "        \n",
      "\n",
      "        [5] What Makes Quantization for Large Language Models Hard? An Empirical Study from the Lens of Perturbation\n",
      "        Authors:Zhuocheng Gong,Jiahao Liu,Jingang Wang,Xunliang Cai,Dongyan Zhao,Rui Yan\n",
      "        Published: 2024-03-11\n",
      "        Summary: Quantization has emerged as a promising technique for improving the memory\n",
      "and computational efficiency of large language models (LLMs). Though the\n",
      "trade-off between performance and efficiency is well...\n",
      "        URL:http://arxiv.org/pdf/2403.06408v1\n",
      "        \n"
     ]
    }
   ],
   "source": [
    "papers = research_agent('LLM quantization', ieee_api_key=\"#\")\n",
    "get_results(papers)"
   ]
  },
  {
   "cell_type": "code",
   "execution_count": 45,
   "metadata": {},
   "outputs": [
    {
     "name": "stdout",
     "output_type": "stream",
     "text": [
      "Testing arXiv:\n",
      "\n",
      "        [1] The Rise of Quantum Internet Computing\n",
      "        Authors:Seng W. Loke\n",
      "        Published: 2022-08-01\n",
      "        Summary: This article highlights quantum Internet computing as referring to\n",
      "distributed quantum computing over the quantum Internet, analogous to\n",
      "(classical) Internet computing involving (classical) distribute...\n",
      "        URL:http://arxiv.org/pdf/2208.00733v1\n",
      "        \n",
      "\n",
      "        [2] Unconventional Quantum Computing Devices\n",
      "        Authors:Seth Lloyd\n",
      "        Published: 2000-03-31\n",
      "        Summary: This paper investigates a variety of unconventional quantum computation\n",
      "devices, including fermionic quantum computers and computers that exploit\n",
      "nonlinear quantum mechanics. It is shown that unconven...\n",
      "        URL:http://arxiv.org/pdf/quant-ph/0003151v1\n",
      "        \n",
      "\n",
      "Testing IEEE:\n"
     ]
    },
    {
     "ename": "RetryError",
     "evalue": "RetryError[<Future at 0x23f31943e50 state=finished raised Exception>]",
     "output_type": "error",
     "traceback": [
      "\u001b[31m---------------------------------------------------------------------------\u001b[39m",
      "\u001b[31mException\u001b[39m                                 Traceback (most recent call last)",
      "\u001b[36mFile \u001b[39m\u001b[32mc:\\Users\\Lenovo\\.conda\\envs\\r-conda\\Lib\\site-packages\\tenacity\\__init__.py:480\u001b[39m, in \u001b[36mRetrying.__call__\u001b[39m\u001b[34m(self, fn, *args, **kwargs)\u001b[39m\n\u001b[32m    479\u001b[39m \u001b[38;5;28;01mtry\u001b[39;00m:\n\u001b[32m--> \u001b[39m\u001b[32m480\u001b[39m     result = \u001b[43mfn\u001b[49m\u001b[43m(\u001b[49m\u001b[43m*\u001b[49m\u001b[43margs\u001b[49m\u001b[43m,\u001b[49m\u001b[43m \u001b[49m\u001b[43m*\u001b[49m\u001b[43m*\u001b[49m\u001b[43mkwargs\u001b[49m\u001b[43m)\u001b[49m\n\u001b[32m    481\u001b[39m \u001b[38;5;28;01mexcept\u001b[39;00m \u001b[38;5;167;01mBaseException\u001b[39;00m:  \u001b[38;5;66;03m# noqa: B902\u001b[39;00m\n",
      "\u001b[36mCell\u001b[39m\u001b[36m \u001b[39m\u001b[32mIn[38]\u001b[39m\u001b[32m, line 17\u001b[39m, in \u001b[36mget_ieee_papers\u001b[39m\u001b[34m(query, api_key, max_results)\u001b[39m\n\u001b[32m     16\u001b[39m \u001b[38;5;28;01mif\u001b[39;00m response.status_code != \u001b[32m200\u001b[39m:\n\u001b[32m---> \u001b[39m\u001b[32m17\u001b[39m     \u001b[38;5;28;01mraise\u001b[39;00m \u001b[38;5;167;01mException\u001b[39;00m(\u001b[33mf\u001b[39m\u001b[33m'\u001b[39m\u001b[33mIEEE Xplore API failed: \u001b[39m\u001b[38;5;132;01m{\u001b[39;00mresponse.text\u001b[38;5;132;01m}\u001b[39;00m\u001b[33m'\u001b[39m)\n\u001b[32m     19\u001b[39m papers = []\n",
      "\u001b[31mException\u001b[39m: IEEE Xplore API failed: <h1>Developer Inactive</h1>",
      "\nThe above exception was the direct cause of the following exception:\n",
      "\u001b[31mRetryError\u001b[39m                                Traceback (most recent call last)",
      "\u001b[36mCell\u001b[39m\u001b[36m \u001b[39m\u001b[32mIn[45]\u001b[39m\u001b[32m, line 8\u001b[39m\n\u001b[32m      6\u001b[39m \u001b[38;5;28;01mif\u001b[39;00m ieee_api_key:\n\u001b[32m      7\u001b[39m     \u001b[38;5;28mprint\u001b[39m(\u001b[33m'\u001b[39m\u001b[38;5;130;01m\\n\u001b[39;00m\u001b[33mTesting IEEE:\u001b[39m\u001b[33m'\u001b[39m)\n\u001b[32m----> \u001b[39m\u001b[32m8\u001b[39m     ieee_papers = \u001b[43mget_ieee_papers\u001b[49m\u001b[43m(\u001b[49m\u001b[33;43m'\u001b[39;49m\u001b[33;43mquantum computing\u001b[39;49m\u001b[33;43m'\u001b[39;49m\u001b[43m,\u001b[49m\u001b[43m \u001b[49m\u001b[43mieee_api_key\u001b[49m\u001b[43m,\u001b[49m\u001b[43m \u001b[49m\u001b[43mmax_results\u001b[49m\u001b[43m=\u001b[49m\u001b[32;43m2\u001b[39;49m\u001b[43m)\u001b[49m\n\u001b[32m      9\u001b[39m     get_results(ieee_papers)\n",
      "\u001b[36mFile \u001b[39m\u001b[32mc:\\Users\\Lenovo\\.conda\\envs\\r-conda\\Lib\\site-packages\\tenacity\\__init__.py:338\u001b[39m, in \u001b[36mBaseRetrying.wraps.<locals>.wrapped_f\u001b[39m\u001b[34m(*args, **kw)\u001b[39m\n\u001b[32m    336\u001b[39m copy = \u001b[38;5;28mself\u001b[39m.copy()\n\u001b[32m    337\u001b[39m wrapped_f.statistics = copy.statistics  \u001b[38;5;66;03m# type: ignore[attr-defined]\u001b[39;00m\n\u001b[32m--> \u001b[39m\u001b[32m338\u001b[39m \u001b[38;5;28;01mreturn\u001b[39;00m \u001b[43mcopy\u001b[49m\u001b[43m(\u001b[49m\u001b[43mf\u001b[49m\u001b[43m,\u001b[49m\u001b[43m \u001b[49m\u001b[43m*\u001b[49m\u001b[43margs\u001b[49m\u001b[43m,\u001b[49m\u001b[43m \u001b[49m\u001b[43m*\u001b[49m\u001b[43m*\u001b[49m\u001b[43mkw\u001b[49m\u001b[43m)\u001b[49m\n",
      "\u001b[36mFile \u001b[39m\u001b[32mc:\\Users\\Lenovo\\.conda\\envs\\r-conda\\Lib\\site-packages\\tenacity\\__init__.py:477\u001b[39m, in \u001b[36mRetrying.__call__\u001b[39m\u001b[34m(self, fn, *args, **kwargs)\u001b[39m\n\u001b[32m    475\u001b[39m retry_state = RetryCallState(retry_object=\u001b[38;5;28mself\u001b[39m, fn=fn, args=args, kwargs=kwargs)\n\u001b[32m    476\u001b[39m \u001b[38;5;28;01mwhile\u001b[39;00m \u001b[38;5;28;01mTrue\u001b[39;00m:\n\u001b[32m--> \u001b[39m\u001b[32m477\u001b[39m     do = \u001b[38;5;28;43mself\u001b[39;49m\u001b[43m.\u001b[49m\u001b[43miter\u001b[49m\u001b[43m(\u001b[49m\u001b[43mretry_state\u001b[49m\u001b[43m=\u001b[49m\u001b[43mretry_state\u001b[49m\u001b[43m)\u001b[49m\n\u001b[32m    478\u001b[39m     \u001b[38;5;28;01mif\u001b[39;00m \u001b[38;5;28misinstance\u001b[39m(do, DoAttempt):\n\u001b[32m    479\u001b[39m         \u001b[38;5;28;01mtry\u001b[39;00m:\n",
      "\u001b[36mFile \u001b[39m\u001b[32mc:\\Users\\Lenovo\\.conda\\envs\\r-conda\\Lib\\site-packages\\tenacity\\__init__.py:378\u001b[39m, in \u001b[36mBaseRetrying.iter\u001b[39m\u001b[34m(self, retry_state)\u001b[39m\n\u001b[32m    376\u001b[39m result = \u001b[38;5;28;01mNone\u001b[39;00m\n\u001b[32m    377\u001b[39m \u001b[38;5;28;01mfor\u001b[39;00m action \u001b[38;5;129;01min\u001b[39;00m \u001b[38;5;28mself\u001b[39m.iter_state.actions:\n\u001b[32m--> \u001b[39m\u001b[32m378\u001b[39m     result = \u001b[43maction\u001b[49m\u001b[43m(\u001b[49m\u001b[43mretry_state\u001b[49m\u001b[43m)\u001b[49m\n\u001b[32m    379\u001b[39m \u001b[38;5;28;01mreturn\u001b[39;00m result\n",
      "\u001b[36mFile \u001b[39m\u001b[32mc:\\Users\\Lenovo\\.conda\\envs\\r-conda\\Lib\\site-packages\\tenacity\\__init__.py:421\u001b[39m, in \u001b[36mBaseRetrying._post_stop_check_actions.<locals>.exc_check\u001b[39m\u001b[34m(rs)\u001b[39m\n\u001b[32m    419\u001b[39m \u001b[38;5;28;01mif\u001b[39;00m \u001b[38;5;28mself\u001b[39m.reraise:\n\u001b[32m    420\u001b[39m     \u001b[38;5;28;01mraise\u001b[39;00m retry_exc.reraise()\n\u001b[32m--> \u001b[39m\u001b[32m421\u001b[39m \u001b[38;5;28;01mraise\u001b[39;00m retry_exc \u001b[38;5;28;01mfrom\u001b[39;00m\u001b[38;5;250m \u001b[39m\u001b[34;01mfut\u001b[39;00m\u001b[34;01m.\u001b[39;00m\u001b[34;01mexception\u001b[39;00m()\n",
      "\u001b[31mRetryError\u001b[39m: RetryError[<Future at 0x23f31943e50 state=finished raised Exception>]"
     ]
    }
   ],
   "source": [
    "print('Testing arXiv:')\n",
    "arxiv_papers = get_arxiv_papers('quantum computing', max_papers=2)\n",
    "get_results(arxiv_papers)\n",
    "\n",
    "ieee_api_key = \"#\"\n",
    "if ieee_api_key:\n",
    "    print('\\nTesting IEEE:')\n",
    "    ieee_papers = get_ieee_papers('quantum computing', ieee_api_key, max_results=2)\n",
    "    get_results(ieee_papers)"
   ]
  }
 ],
 "metadata": {
  "kernelspec": {
   "display_name": "r-conda",
   "language": "python",
   "name": "python3"
  },
  "language_info": {
   "codemirror_mode": {
    "name": "ipython",
    "version": 3
   },
   "file_extension": ".py",
   "mimetype": "text/x-python",
   "name": "python",
   "nbconvert_exporter": "python",
   "pygments_lexer": "ipython3",
   "version": "3.13.3"
  }
 },
 "nbformat": 4,
 "nbformat_minor": 2
}

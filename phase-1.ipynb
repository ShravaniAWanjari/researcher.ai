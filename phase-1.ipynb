{
 "cells": [
  {
   "cell_type": "markdown",
   "metadata": {},
   "source": [
    "all the imports"
   ]
  },
  {
   "cell_type": "code",
   "execution_count": 1,
   "metadata": {},
   "outputs": [],
   "source": [
    "import arxiv\n",
    "import requests\n",
    "import json"
   ]
  },
  {
   "cell_type": "code",
   "execution_count": 2,
   "metadata": {},
   "outputs": [],
   "source": [
    "def get_arxiv_papers(query: str, max_papers: int = 5) -> list[dict]:\n",
    "    client = arxiv.Client()\n",
    "    search = arxiv.Search(query=query, max_results = max_papers)\n",
    "    papers = []\n",
    "\n",
    "    for result in client.results(search):\n",
    "        paper = {\n",
    "            \"title\" : result.title,\n",
    "            \"authors\": [result.author.name],\n",
    "            \"summary\": result.summary,\n",
    "            \"published\": result.published.date(),\n",
    "            \"url\": result.pdf_url\n",
    "        }\n",
    "        papers.append(paper)\n",
    "\n",
    "    return papers"
   ]
  },
  {
   "cell_type": "code",
   "execution_count": 6,
   "metadata": {},
   "outputs": [],
   "source": [
    "from tenacity import retry, stop_after_attempt\n",
    "\n",
    "@retry(stop=stop_after_attempt(5))\n",
    "\n",
    "\n",
    "def get_ieee_papers(query:str, api_key:str, max_results:int = 5) -> list[dict]:\n",
    "    url = \"https://ieeexploreapi.ieee.org/api/v1/search/articles?parameter&apikey=\"\n",
    "    params = {\n",
    "        \"query\": query,\n",
    "        'apikey': api_key,\n",
    "        'max_records': max_results,\n",
    "        'format': 'json'\n",
    "    }\n",
    "\n",
    "    response = requests.get(url, params=params, timeout=10)\n",
    "    if response.status_code != 200:\n",
    "        raise Exception(f'IEEE Xplore API failed: {response.text}')\n",
    "    \n",
    "    papers = []\n",
    "\n",
    "    for article in response.json().get('articles', []):\n",
    "        papers.append({\n",
    "            \"title\": article.get('title', 'no title'),\n",
    "            \"authors\": [author[\"full_name\"] for author in article.get('authors', [])],\n",
    "            \"abstract\":article.get('abstract', 'No abstract'),\n",
    "            'published': article.get('publication_date',\"\"),\n",
    "            'url': article.get('pdf_url', article.get('html_url',''))\n",
    "        })\n",
    "    return papers\n",
    "\n",
    "    "
   ]
  },
  {
   "cell_type": "code",
   "execution_count": 8,
   "metadata": {},
   "outputs": [],
   "source": [
    "def research_agent(query:str, ieee_api_key:str, max_papers: int = 5)-> list[str]:\n",
    "    try:\n",
    "        papers = get_arxiv_papers(query, max_papers)\n",
    "        if not papers:\n",
    "            return ValueError('arXiv returned no papers')\n",
    "        return papers\n",
    "    except Exception as e:\n",
    "        if not ieee_api_key:\n",
    "            return ValueError('Switching to IEEE - Need the API key')\n",
    "        print(f'arxiv failed ({e}), trying IEEE Xplore')\n",
    "        return get_ieee_papers(query, ieee_api_key, max_papers)\n",
    "\n"
   ]
  },
  {
   "cell_type": "code",
   "execution_count": 9,
   "metadata": {},
   "outputs": [],
   "source": [
    "def get_results(papers: list[dict]):\n",
    "    for i, paper in enumerate(papers,1):\n",
    "        print(f\"\"\"\n",
    "        [{i}] {paper['title']}\n",
    "        Authors:{','.join(paper.get('authors', []))}\n",
    "        Published: {paper.get('published', 'N/A')}\n",
    "        Summary: {paper.get('summary', paper.get('abstract', 'N/A'))[:200]}...\n",
    "        URL:{paper.get('url','N/A')}\n",
    "        \"\"\")"
   ]
  },
  {
   "cell_type": "code",
   "execution_count": null,
   "metadata": {},
   "outputs": [],
   "source": []
  }
 ],
 "metadata": {
  "kernelspec": {
   "display_name": "r-conda",
   "language": "python",
   "name": "python3"
  },
  "language_info": {
   "codemirror_mode": {
    "name": "ipython",
    "version": 3
   },
   "file_extension": ".py",
   "mimetype": "text/x-python",
   "name": "python",
   "nbconvert_exporter": "python",
   "pygments_lexer": "ipython3",
   "version": "3.13.3"
  }
 },
 "nbformat": 4,
 "nbformat_minor": 2
}
